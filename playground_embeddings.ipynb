{
 "cells": [
  {
   "metadata": {
    "ExecuteTime": {
     "end_time": "2025-06-20T06:44:42.654932Z",
     "start_time": "2025-06-20T06:44:42.639604Z"
    }
   },
   "cell_type": "code",
   "source": [
    "from sentence_transformers import SentenceTransformer\n",
    "import numpy as np\n",
    "from numpy import dot\n",
    "import chromadb"
   ],
   "id": "34b69972f258a36b",
   "outputs": [],
   "execution_count": 189
  },
  {
   "cell_type": "code",
   "id": "initial_id",
   "metadata": {
    "collapsed": true,
    "ExecuteTime": {
     "end_time": "2025-06-20T06:44:42.687461Z",
     "start_time": "2025-06-20T06:44:42.684303Z"
    }
   },
   "source": [
    "# Load sample corpus\n",
    "SENTENCES = [\n",
    "    \"I missed my workout yesterday but I'll hit the gym today.\",\n",
    "    \"My goal is to get a HD in my finance exam.\",\n",
    "    \"I need to make a better budget for myself.\",\n",
    "    \"I spent $50 on coffee last month, need to budget better.\",\n",
    "    \"ChatGPT retrieval-augmented generations improves accuracy.\",\n",
    "    \"Running 5km in under 25 minutes is my next target.\",\n",
    "]\n",
    "SENTENCES"
   ],
   "outputs": [
    {
     "data": {
      "text/plain": [
       "[\"I missed my workout yesterday but I'll hit the gym today.\",\n",
       " 'My goal is to get a HD in my finance exam.',\n",
       " 'I need to make a better budget for myself.',\n",
       " 'I spent $50 on coffee last month, need to budget better.',\n",
       " 'ChatGPT retrieval-augmented generations improves accuracy.',\n",
       " 'Running 5km in under 25 minutes is my next target.']"
      ]
     },
     "execution_count": 190,
     "metadata": {},
     "output_type": "execute_result"
    }
   ],
   "execution_count": 190
  },
  {
   "metadata": {
    "ExecuteTime": {
     "end_time": "2025-06-20T06:44:47.068427Z",
     "start_time": "2025-06-20T06:44:42.715417Z"
    }
   },
   "cell_type": "code",
   "source": [
    "# Embed with SentenceTransformer\n",
    "model = SentenceTransformer(\"all-MiniLM-L6-v2\")\n",
    "embeddings = model.encode(SENTENCES)"
   ],
   "id": "81de8b81cf0cb8b7",
   "outputs": [
    {
     "data": {
      "text/plain": [
       "(6, 384)"
      ]
     },
     "execution_count": 191,
     "metadata": {},
     "output_type": "execute_result"
    }
   ],
   "execution_count": 191
  },
  {
   "metadata": {
    "ExecuteTime": {
     "end_time": "2025-06-20T06:44:47.089349Z",
     "start_time": "2025-06-20T06:44:47.085313Z"
    }
   },
   "cell_type": "code",
   "source": [
    "# Assert vectors are unit-length\n",
    "norms = np.linalg.norm(embeddings, axis=1)\n",
    "print(norms)"
   ],
   "id": "9a105cbdf7795091",
   "outputs": [
    {
     "name": "stdout",
     "output_type": "stream",
     "text": [
      "[1.         1.         1.         1.         1.         0.99999994]\n"
     ]
    }
   ],
   "execution_count": 192
  },
  {
   "metadata": {
    "ExecuteTime": {
     "end_time": "2025-06-20T06:44:47.111245Z",
     "start_time": "2025-06-20T06:44:47.106648Z"
    }
   },
   "cell_type": "code",
   "source": [
    "# Manual cosine check (>0 -> semantically related)\n",
    "cos = dot(embeddings[1], embeddings[3])\n",
    "\"cosine:\", cos"
   ],
   "id": "b9df5f04f3cf31e9",
   "outputs": [
    {
     "data": {
      "text/plain": [
       "('cosine:', np.float32(0.15977593))"
      ]
     },
     "execution_count": 193,
     "metadata": {},
     "output_type": "execute_result"
    }
   ],
   "execution_count": 193
  },
  {
   "metadata": {
    "ExecuteTime": {
     "end_time": "2025-06-20T06:44:47.130737Z",
     "start_time": "2025-06-20T06:44:47.124779Z"
    }
   },
   "cell_type": "code",
   "source": [
    "def most_similar(idx):\n",
    "    sims = embeddings @ embeddings[idx].T\n",
    "    order = sims.argsort()[::-1]\n",
    "    return [(i, sims[i]) for i in order if i != idx]\n",
    "\n",
    "most_similar(0)"
   ],
   "id": "14befc91833a5c71",
   "outputs": [
    {
     "data": {
      "text/plain": [
       "[(np.int64(5), np.float32(0.30851096)),\n",
       " (np.int64(3), np.float32(0.13859929)),\n",
       " (np.int64(2), np.float32(0.044685468)),\n",
       " (np.int64(1), np.float32(0.032101903)),\n",
       " (np.int64(4), np.float32(0.028044892))]"
      ]
     },
     "execution_count": 194,
     "metadata": {},
     "output_type": "execute_result"
    }
   ],
   "execution_count": 194
  },
  {
   "metadata": {
    "ExecuteTime": {
     "end_time": "2025-06-20T06:44:47.213464Z",
     "start_time": "2025-06-20T06:44:47.146315Z"
    }
   },
   "cell_type": "code",
   "source": [
    "# Spin up in-memory Chroma\n",
    "client = chromadb.Client()\n",
    "client.delete_collection(\"memory\")\n",
    "collection = client.create_collection(\"memory\")\n",
    "\n",
    "embeddings = model.encode(SENTENCES, normalize_embeddings=True)\n",
    "\n",
    "collection.add(documents=SENTENCES, embeddings=embeddings.tolist(), ids=[f\"id{i}\" for i in range(len(SENTENCES))] )"
   ],
   "id": "cb9ce9ea9baea9ad",
   "outputs": [],
   "execution_count": 195
  },
  {
   "metadata": {
    "ExecuteTime": {
     "end_time": "2025-06-20T21:03:47.935230Z",
     "start_time": "2025-06-20T21:03:44.385870Z"
    }
   },
   "cell_type": "code",
   "source": [
    "# Query\n",
    "query = \"I hate coffee.\"\n",
    "q_emb = model.encode([query])\n",
    "result = collection.query(query_embeddings=q_emb.tolist(), n_results=5)\n",
    "result[\"documents\"][0]"
   ],
   "id": "cafa4b62f43aaa6f",
   "outputs": [
    {
     "data": {
      "text/plain": [
       "['I spent $50 on coffee last month, need to budget better.',\n",
       " 'I need to make a better budget for myself.',\n",
       " \"I missed my workout yesterday but I'll hit the gym today.\",\n",
       " 'Running 5km in under 25 minutes is my next target.',\n",
       " 'ChatGPT retrieval-augmented generations improves accuracy.']"
      ]
     },
     "execution_count": 199,
     "metadata": {},
     "output_type": "execute_result"
    }
   ],
   "execution_count": 199
  },
  {
   "metadata": {
    "ExecuteTime": {
     "end_time": "2025-06-20T21:03:49.687946Z",
     "start_time": "2025-06-20T21:03:49.681076Z"
    }
   },
   "cell_type": "code",
   "source": "result[\"distances\"]",
   "id": "23e761566f01e1f",
   "outputs": [
    {
     "data": {
      "text/plain": [
       "[[0.9683874845504761,\n",
       "  1.6685576438903809,\n",
       "  1.859717607498169,\n",
       "  1.8615751266479492,\n",
       "  1.9338407516479492]]"
      ]
     },
     "execution_count": 200,
     "metadata": {},
     "output_type": "execute_result"
    }
   ],
   "execution_count": 200
  },
  {
   "metadata": {
    "ExecuteTime": {
     "end_time": "2025-06-20T21:04:14.203668Z",
     "start_time": "2025-06-20T21:04:14.184693Z"
    }
   },
   "cell_type": "code",
   "source": [
    "docs = collection.get()[\"documents\"]\n",
    "print(len(docs), len(set(docs)))"
   ],
   "id": "a43f2647cbd669c7",
   "outputs": [
    {
     "name": "stdout",
     "output_type": "stream",
     "text": [
      "6 6\n"
     ]
    }
   ],
   "execution_count": 201
  },
  {
   "metadata": {
    "ExecuteTime": {
     "end_time": "2025-06-20T06:44:47.315995Z",
     "start_time": "2025-06-20T06:44:47.314617Z"
    }
   },
   "cell_type": "code",
   "source": "",
   "id": "db70661fb75be7ca",
   "outputs": [],
   "execution_count": null
  }
 ],
 "metadata": {
  "kernelspec": {
   "display_name": "Python 3",
   "language": "python",
   "name": "python3"
  },
  "language_info": {
   "codemirror_mode": {
    "name": "ipython",
    "version": 2
   },
   "file_extension": ".py",
   "mimetype": "text/x-python",
   "name": "python",
   "nbconvert_exporter": "python",
   "pygments_lexer": "ipython2",
   "version": "2.7.6"
  }
 },
 "nbformat": 4,
 "nbformat_minor": 5
}
